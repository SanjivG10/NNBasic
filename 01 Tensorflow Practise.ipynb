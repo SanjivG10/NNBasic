{
 "cells": [
  {
   "cell_type": "code",
   "execution_count": 135,
   "metadata": {},
   "outputs": [],
   "source": [
    "\n",
    "import tensorflow as tf\n",
    "from tensorflow.keras.layers import Dense\n",
    "from tensorflow.keras.models import Model,Sequential\n",
    "import numpy as np"
   ]
  },
  {
   "cell_type": "code",
   "execution_count": 136,
   "metadata": {},
   "outputs": [],
   "source": [
    "model = Sequential()"
   ]
  },
  {
   "cell_type": "code",
   "execution_count": 137,
   "metadata": {},
   "outputs": [],
   "source": [
    "model.add(Dense(2,activation='relu'))\n",
    "model.add(Dense(1,activation='relu'))\n",
    "model.add(Dense(1,activation='sigmoid'))"
   ]
  },
  {
   "cell_type": "code",
   "execution_count": null,
   "metadata": {},
   "outputs": [],
   "source": []
  },
  {
   "cell_type": "code",
   "execution_count": 138,
   "metadata": {},
   "outputs": [
    {
     "name": "stdout",
     "output_type": "stream",
     "text": [
      "[[1, 1], [1, 0], [0, 0], [1, 0], [1, 1], [0, 1], [1, 1], [0, 0], [0, 0], [1, 1], [0, 1], [0, 1], [0, 0], [0, 1], [1, 1], [0, 0], [1, 1], [1, 1], [1, 0], [0, 0], [0, 1], [1, 0], [1, 1], [1, 0], [0, 1], [0, 1], [1, 1], [0, 1], [1, 1], [0, 1], [0, 0], [1, 0], [1, 1], [1, 0], [0, 1], [0, 0], [1, 1], [1, 1], [1, 0], [0, 0], [1, 1], [0, 0], [1, 1], [0, 1], [1, 0], [0, 0], [1, 1], [0, 0], [1, 1], [1, 1], [1, 1], [1, 1], [1, 1], [1, 1], [0, 1], [0, 1], [0, 1], [1, 0], [0, 1], [1, 0], [0, 0], [0, 1], [1, 0], [1, 1], [0, 1], [1, 0], [1, 1], [0, 0], [1, 1], [0, 0], [0, 1], [1, 0], [1, 1], [1, 1], [1, 0], [1, 1], [1, 0], [1, 0], [1, 1], [1, 1], [1, 1], [0, 1], [0, 0], [1, 0], [0, 0], [0, 1], [0, 1], [1, 0], [1, 1], [0, 0], [1, 1], [0, 1], [0, 1], [0, 0], [1, 1], [1, 0], [1, 1], [0, 1], [0, 1], [0, 1]]\n",
      "[0, 1, 0, 1, 0, 1, 0, 0, 0, 0, 1, 1, 0, 1, 0, 0, 0, 0, 1, 0, 1, 1, 0, 1, 1, 1, 0, 1, 0, 1, 0, 1, 0, 1, 1, 0, 0, 0, 1, 0, 0, 0, 0, 1, 1, 0, 0, 0, 0, 0, 0, 0, 0, 0, 1, 1, 1, 1, 1, 1, 0, 1, 1, 0, 1, 1, 0, 0, 0, 0, 1, 1, 0, 0, 1, 0, 1, 1, 0, 0, 0, 1, 0, 1, 0, 1, 1, 1, 0, 0, 0, 1, 1, 0, 0, 1, 0, 1, 1, 1]\n"
     ]
    }
   ],
   "source": [
    "X = []\n",
    "Y= []\n",
    "for i in range(1000):\n",
    "    a=[]\n",
    "    for j in range(2):\n",
    "        a.append(np.random.choice([0, 1]))\n",
    "    X.append(a)\n",
    "    \n",
    "    if sum(a)%2==0:\n",
    "        Y.append(0)\n",
    "    else:\n",
    "        Y.append(1)\n",
    "print(X[:100])\n",
    "print(Y[:100])\n",
    "X = np.array(X)\n",
    "Y = np.array(Y)"
   ]
  },
  {
   "cell_type": "code",
   "execution_count": null,
   "metadata": {},
   "outputs": [],
   "source": []
  },
  {
   "cell_type": "code",
   "execution_count": 139,
   "metadata": {},
   "outputs": [],
   "source": [
    "writer = tf.summary.create_file_writer('writer')\n"
   ]
  },
  {
   "cell_type": "code",
   "execution_count": 140,
   "metadata": {
    "scrolled": true
   },
   "outputs": [
    {
     "name": "stdout",
     "output_type": "stream",
     "text": [
      "0.22471584\n",
      "LOSS [0.22471584] at  epoch 1 \n",
      "0.18113807\n",
      "LOSS [0.18113807] at  epoch 2 \n",
      "0.15272291\n",
      "LOSS [0.15272291] at  epoch 3 \n",
      "0.13673066\n",
      "LOSS [0.13673066] at  epoch 4 \n",
      "0.12811442\n",
      "LOSS [0.12811442] at  epoch 5 \n",
      "0.1233734\n",
      "LOSS [0.1233734] at  epoch 6 \n",
      "0.120688446\n",
      "LOSS [0.12068845] at  epoch 7 \n",
      "0.11911901\n",
      "LOSS [0.11911901] at  epoch 8 \n",
      "0.11816568\n",
      "LOSS [0.11816568] at  epoch 9 \n",
      "0.11756495\n",
      "LOSS [0.11756495] at  epoch 10 \n"
     ]
    }
   ],
   "source": [
    "# variables = model.trainable_variables\n",
    "# print(history.history['loss'])\n",
    "# print(variables)\n",
    "\n",
    "opt = tf.keras.optimizers.SGD(0.01)\n",
    "with writer.as_default():\n",
    "    for _ in range(10):\n",
    "        for i in range(len(X)):\n",
    "            with tf.GradientTape() as g:\n",
    "                y_pred = model(X[i].reshape(1,2))\n",
    "                y_true = Y[i]\n",
    "                loss_function = tf.keras.losses.mean_squared_error(y_true, y_pred)\n",
    "                gradients = g.gradient(loss_function, model.trainable_variables)\n",
    "                grads_var = zip(gradients,model.trainable_variables)\n",
    "                opt.apply_gradients(grads_var)\n",
    "        print(loss_function.numpy()[0])\n",
    "        tf.summary.scalar(\"Cost Function\", loss_function.numpy()[0], step=_+1)\n",
    "        print(\"LOSS {} at  epoch {} \".format(loss_function,_+1))"
   ]
  },
  {
   "cell_type": "code",
   "execution_count": 134,
   "metadata": {},
   "outputs": [
    {
     "name": "stdout",
     "output_type": "stream",
     "text": [
      "The value of array X [0 0] is actual y [[0.34063706]]  Y [[0.]] \n",
      "The value of array X [0 1] is actual y [[0.966099]]  Y [[1.]] \n",
      "The value of array X [1 1] is actual y [[0.34063706]]  Y [[0.]] \n",
      "The value of array X [1 0] is actual y [[0.34063706]]  Y [[0.]] \n",
      "The value of array X [1 0] is actual y [[0.34063706]]  Y [[0.]] \n",
      "The value of array X [1 0] is actual y [[0.34063706]]  Y [[0.]] \n",
      "The value of array X [0 1] is actual y [[0.966099]]  Y [[1.]] \n",
      "The value of array X [0 0] is actual y [[0.34063706]]  Y [[0.]] \n",
      "The value of array X [1 1] is actual y [[0.34063706]]  Y [[0.]] \n",
      "The value of array X [1 1] is actual y [[0.34063706]]  Y [[0.]] \n",
      "The value of array X [0 1] is actual y [[0.966099]]  Y [[1.]] \n",
      "The value of array X [0 1] is actual y [[0.966099]]  Y [[1.]] \n",
      "The value of array X [0 1] is actual y [[0.966099]]  Y [[1.]] \n",
      "The value of array X [1 0] is actual y [[0.34063706]]  Y [[0.]] \n",
      "The value of array X [1 0] is actual y [[0.34063706]]  Y [[0.]] \n",
      "The value of array X [1 0] is actual y [[0.34063706]]  Y [[0.]] \n",
      "The value of array X [0 0] is actual y [[0.34063706]]  Y [[0.]] \n",
      "The value of array X [0 0] is actual y [[0.34063706]]  Y [[0.]] \n",
      "The value of array X [0 1] is actual y [[0.966099]]  Y [[1.]] \n",
      "The value of array X [0 0] is actual y [[0.34063706]]  Y [[0.]] \n",
      "The value of array X [0 0] is actual y [[0.34063706]]  Y [[0.]] \n",
      "The value of array X [1 0] is actual y [[0.34063706]]  Y [[0.]] \n",
      "The value of array X [1 1] is actual y [[0.34063706]]  Y [[0.]] \n",
      "The value of array X [0 0] is actual y [[0.34063706]]  Y [[0.]] \n",
      "The value of array X [1 1] is actual y [[0.34063706]]  Y [[0.]] \n",
      "The value of array X [1 1] is actual y [[0.34063706]]  Y [[0.]] \n",
      "The value of array X [1 0] is actual y [[0.34063706]]  Y [[0.]] \n",
      "The value of array X [0 1] is actual y [[0.966099]]  Y [[1.]] \n",
      "The value of array X [0 1] is actual y [[0.966099]]  Y [[1.]] \n",
      "The value of array X [0 1] is actual y [[0.966099]]  Y [[1.]] \n",
      "The value of array X [1 0] is actual y [[0.34063706]]  Y [[0.]] \n",
      "The value of array X [0 1] is actual y [[0.966099]]  Y [[1.]] \n",
      "The value of array X [1 0] is actual y [[0.34063706]]  Y [[0.]] \n",
      "The value of array X [0 0] is actual y [[0.34063706]]  Y [[0.]] \n",
      "The value of array X [1 0] is actual y [[0.34063706]]  Y [[0.]] \n",
      "The value of array X [0 0] is actual y [[0.34063706]]  Y [[0.]] \n",
      "The value of array X [1 0] is actual y [[0.34063706]]  Y [[0.]] \n",
      "The value of array X [1 0] is actual y [[0.34063706]]  Y [[0.]] \n",
      "The value of array X [1 1] is actual y [[0.34063706]]  Y [[0.]] \n",
      "The value of array X [1 0] is actual y [[0.34063706]]  Y [[0.]] \n",
      "The value of array X [1 1] is actual y [[0.34063706]]  Y [[0.]] \n",
      "The value of array X [1 1] is actual y [[0.34063706]]  Y [[0.]] \n",
      "The value of array X [0 0] is actual y [[0.34063706]]  Y [[0.]] \n",
      "The value of array X [1 0] is actual y [[0.34063706]]  Y [[0.]] \n",
      "The value of array X [1 1] is actual y [[0.34063706]]  Y [[0.]] \n",
      "The value of array X [0 1] is actual y [[0.966099]]  Y [[1.]] \n",
      "The value of array X [0 1] is actual y [[0.966099]]  Y [[1.]] \n",
      "The value of array X [0 1] is actual y [[0.966099]]  Y [[1.]] \n",
      "The value of array X [1 0] is actual y [[0.34063706]]  Y [[0.]] \n",
      "The value of array X [0 0] is actual y [[0.34063706]]  Y [[0.]] \n",
      "The value of array X [0 1] is actual y [[0.966099]]  Y [[1.]] \n",
      "The value of array X [0 1] is actual y [[0.966099]]  Y [[1.]] \n",
      "The value of array X [1 1] is actual y [[0.34063706]]  Y [[0.]] \n",
      "The value of array X [1 1] is actual y [[0.34063706]]  Y [[0.]] \n",
      "The value of array X [0 0] is actual y [[0.34063706]]  Y [[0.]] \n",
      "The value of array X [1 0] is actual y [[0.34063706]]  Y [[0.]] \n",
      "The value of array X [0 0] is actual y [[0.34063706]]  Y [[0.]] \n",
      "The value of array X [1 0] is actual y [[0.34063706]]  Y [[0.]] \n",
      "The value of array X [1 1] is actual y [[0.34063706]]  Y [[0.]] \n",
      "The value of array X [1 0] is actual y [[0.34063706]]  Y [[0.]] \n",
      "The value of array X [0 0] is actual y [[0.34063706]]  Y [[0.]] \n",
      "The value of array X [0 1] is actual y [[0.966099]]  Y [[1.]] \n",
      "The value of array X [0 1] is actual y [[0.966099]]  Y [[1.]] \n",
      "The value of array X [0 0] is actual y [[0.34063706]]  Y [[0.]] \n",
      "The value of array X [1 1] is actual y [[0.34063706]]  Y [[0.]] \n",
      "The value of array X [0 1] is actual y [[0.966099]]  Y [[1.]] \n",
      "The value of array X [0 0] is actual y [[0.34063706]]  Y [[0.]] \n",
      "The value of array X [1 1] is actual y [[0.34063706]]  Y [[0.]] \n",
      "The value of array X [1 1] is actual y [[0.34063706]]  Y [[0.]] \n",
      "The value of array X [0 1] is actual y [[0.966099]]  Y [[1.]] \n",
      "The value of array X [0 0] is actual y [[0.34063706]]  Y [[0.]] \n",
      "The value of array X [1 0] is actual y [[0.34063706]]  Y [[0.]] \n",
      "The value of array X [1 0] is actual y [[0.34063706]]  Y [[0.]] \n",
      "The value of array X [0 0] is actual y [[0.34063706]]  Y [[0.]] \n",
      "The value of array X [1 1] is actual y [[0.34063706]]  Y [[0.]] \n",
      "The value of array X [0 1] is actual y [[0.966099]]  Y [[1.]] \n",
      "The value of array X [1 1] is actual y [[0.34063706]]  Y [[0.]] \n",
      "The value of array X [1 1] is actual y [[0.34063706]]  Y [[0.]] \n",
      "The value of array X [1 1] is actual y [[0.34063706]]  Y [[0.]] \n",
      "The value of array X [0 0] is actual y [[0.34063706]]  Y [[0.]] \n",
      "The value of array X [1 1] is actual y [[0.34063706]]  Y [[0.]] \n",
      "The value of array X [1 0] is actual y [[0.34063706]]  Y [[0.]] \n",
      "The value of array X [1 1] is actual y [[0.34063706]]  Y [[0.]] \n",
      "The value of array X [1 0] is actual y [[0.34063706]]  Y [[0.]] \n",
      "The value of array X [0 1] is actual y [[0.966099]]  Y [[1.]] \n",
      "The value of array X [0 1] is actual y [[0.966099]]  Y [[1.]] \n",
      "The value of array X [0 1] is actual y [[0.966099]]  Y [[1.]] \n",
      "The value of array X [0 1] is actual y [[0.966099]]  Y [[1.]] \n",
      "The value of array X [1 1] is actual y [[0.34063706]]  Y [[0.]] \n",
      "The value of array X [0 0] is actual y [[0.34063706]]  Y [[0.]] \n",
      "The value of array X [1 0] is actual y [[0.34063706]]  Y [[0.]] \n",
      "The value of array X [0 1] is actual y [[0.966099]]  Y [[1.]] \n",
      "The value of array X [0 0] is actual y [[0.34063706]]  Y [[0.]] \n",
      "The value of array X [0 1] is actual y [[0.966099]]  Y [[1.]] \n",
      "The value of array X [1 1] is actual y [[0.34063706]]  Y [[0.]] \n",
      "The value of array X [1 0] is actual y [[0.34063706]]  Y [[0.]] \n",
      "The value of array X [1 0] is actual y [[0.34063706]]  Y [[0.]] \n",
      "The value of array X [1 0] is actual y [[0.34063706]]  Y [[0.]] \n",
      "The value of array X [1 0] is actual y [[0.34063706]]  Y [[0.]] \n",
      "The value of array X [1 0] is actual y [[0.34063706]]  Y [[0.]] \n"
     ]
    }
   ],
   "source": [
    "for i in range(100):\n",
    "    X= np.array(X)\n",
    "    Y=np.array(Y,dtype='float32')\n",
    "    checkX = X[i].reshape(1,2)\n",
    "    predicted = model(checkX)\n",
    "    print(\"The value of array X {} is actual y {}  Y {} \".format(X[i],predicted,tf.round(predicted)))\n"
   ]
  },
  {
   "cell_type": "code",
   "execution_count": null,
   "metadata": {},
   "outputs": [],
   "source": []
  },
  {
   "cell_type": "code",
   "execution_count": null,
   "metadata": {},
   "outputs": [],
   "source": []
  }
 ],
 "metadata": {
  "kernelspec": {
   "display_name": "Python 3",
   "language": "python",
   "name": "python3"
  },
  "language_info": {
   "codemirror_mode": {
    "name": "ipython",
    "version": 3
   },
   "file_extension": ".py",
   "mimetype": "text/x-python",
   "name": "python",
   "nbconvert_exporter": "python",
   "pygments_lexer": "ipython3",
   "version": "3.6.9"
  }
 },
 "nbformat": 4,
 "nbformat_minor": 2
}
